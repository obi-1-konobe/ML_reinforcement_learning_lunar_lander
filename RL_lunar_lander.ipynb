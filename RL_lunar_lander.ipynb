{
 "cells": [
  {
   "cell_type": "code",
   "execution_count": 1,
   "metadata": {},
   "outputs": [
    {
     "name": "stderr",
     "output_type": "stream",
     "text": [
      "Using TensorFlow backend.\n"
     ]
    }
   ],
   "source": [
    "import gym\n",
    "from keras import Sequential\n",
    "from keras.layers import Dense\n",
    "from keras.optimizers import adam\n",
    "from keras.activations import relu, linear\n",
    "import numpy as np\n",
    "import random\n",
    "from collections import deque\n",
    "import matplotlib.pyplot as plt"
   ]
  },
  {
   "cell_type": "markdown",
   "metadata": {},
   "source": [
    "## Условия окружения"
   ]
  },
  {
   "cell_type": "markdown",
   "metadata": {},
   "source": [
    "LunarLander-v2\n",
    "Landing pad is always at coordinates (0,0). Coordinates are the first two numbers in state vector. Reward for moving from the top of the screen to landing pad and zero speed is about 100..140 points. If lander moves away from landing pad it loses reward back. Episode finishes if the lander crashes or comes to rest, receiving additional -100 or +100 points. Each leg ground contact is +10. Firing main engine is -0.3 points each frame. Solved is 200 points. Landing outside landing pad is possible. Fuel is infinite, so an agent can learn to fly and then land on its first attempt. Four discrete actions available: do nothing, fire left orientation engine, fire main engine, fire right orientation engine."
   ]
  },
  {
   "cell_type": "markdown",
   "metadata": {},
   "source": [
    "Инициализируем окружение"
   ]
  },
  {
   "cell_type": "code",
   "execution_count": 2,
   "metadata": {},
   "outputs": [
    {
     "name": "stderr",
     "output_type": "stream",
     "text": [
      "/home/obi-1-konobe/projects/mag/ml/task_6/gym/gym/logger.py:30: UserWarning: \u001b[33mWARN: Box bound precision lowered by casting to float32\u001b[0m\n",
      "  warnings.warn(colorize('%s: %s'%('WARN', msg % args), 'yellow'))\n"
     ]
    }
   ],
   "source": [
    "env = gym.make('LunarLander-v2')"
   ]
  },
  {
   "cell_type": "markdown",
   "metadata": {},
   "source": [
    "Состояния описываются 8 параметрами"
   ]
  },
  {
   "cell_type": "code",
   "execution_count": 3,
   "metadata": {},
   "outputs": [
    {
     "data": {
      "text/plain": [
       "Box(8,)"
      ]
     },
     "execution_count": 3,
     "metadata": {},
     "output_type": "execute_result"
    }
   ],
   "source": [
    "env.observation_space"
   ]
  },
  {
   "cell_type": "markdown",
   "metadata": {},
   "source": [
    "Существует 4 варианта действий"
   ]
  },
  {
   "cell_type": "code",
   "execution_count": 4,
   "metadata": {},
   "outputs": [
    {
     "data": {
      "text/plain": [
       "4"
      ]
     },
     "execution_count": 4,
     "metadata": {},
     "output_type": "execute_result"
    }
   ],
   "source": [
    "env.action_space.n"
   ]
  },
  {
   "cell_type": "markdown",
   "metadata": {},
   "source": [
    "Инициализируем гиперпараметры"
   ]
  },
  {
   "cell_type": "code",
   "execution_count": 12,
   "metadata": {},
   "outputs": [],
   "source": [
    "lr = 0.001\n",
    "state_size = 8\n",
    "n_actions = 4\n",
    "exp_bufer = list()\n",
    "epsilon = 1\n",
    "min_epsilon = 0.1\n",
    "gamma = 0.99\n",
    "batch_size = 100"
   ]
  },
  {
   "cell_type": "markdown",
   "metadata": {},
   "source": [
    "Инициализируем нейронную сеть"
   ]
  },
  {
   "cell_type": "code",
   "execution_count": 13,
   "metadata": {},
   "outputs": [],
   "source": [
    "model = Sequential()\n",
    "model.add(Dense(256, input_dim=state_size, activation=relu))\n",
    "model.add(Dense(128, activation=relu))\n",
    "model.add(Dense(n_actions, activation=linear))\n",
    "model.compile(loss='mse', optimizer=adam(lr=lr))"
   ]
  },
  {
   "cell_type": "markdown",
   "metadata": {},
   "source": [
    "Функция выбора действия по состоянию"
   ]
  },
  {
   "cell_type": "code",
   "execution_count": 14,
   "metadata": {},
   "outputs": [],
   "source": [
    "def get_action(state):\n",
    "    # exploartion vs explotation\n",
    "    exploration_explotation =  random.random()\n",
    "    if exploration_explotation < epsilon:\n",
    "        random_action = env.action_space.sample()\n",
    "        return random_action\n",
    "    best_action = np.argmax(model.predict(state)[0])\n",
    "    return best_action"
   ]
  },
  {
   "cell_type": "markdown",
   "metadata": {},
   "source": [
    "Функция обновления весов сети"
   ]
  },
  {
   "cell_type": "code",
   "execution_count": 18,
   "metadata": {},
   "outputs": [],
   "source": [
    "def update_weights():\n",
    "    \n",
    "    if np.mean(episodes_score[-10:]) > 200:\n",
    "        return None\n",
    "    # набирвем батч из буфера\n",
    "    batch = random.sample(exp_bufer, batch_size)\n",
    "    # рассчитываем значения Q-функции \n",
    "    states = np.array([i[0] for i in batch])\n",
    "    actions = np.array([i[1] for i in batch])\n",
    "    rewards = np.array([i[2] for i in batch])\n",
    "    next_states = np.array([i[3] for i in batch])\n",
    "    dones = np.array([i[4] for i in batch])\n",
    "    \n",
    "    states = np.squeeze(states)\n",
    "    next_states = np.squeeze(next_states)\n",
    "    \n",
    "    targets = rewards + gamma*(np.amax(model.predict_on_batch(next_states), axis=1))*(1-dones)\n",
    "    # подставляем новые значения Q-функции\n",
    "    targets_full = model.predict_on_batch(states)\n",
    "    ind = np.array([i for i in range(batch_size)])\n",
    "    targets_full[[ind], [actions]] = targets\n",
    "    # обновляем веса сети\n",
    "    model.fit(states, targets_full, epochs=1, verbose=0)"
   ]
  },
  {
   "cell_type": "markdown",
   "metadata": {},
   "source": [
    "Запускаем 10 эпизодов со случайными действиями для первичного заполнения буфера"
   ]
  },
  {
   "cell_type": "code",
   "execution_count": 16,
   "metadata": {},
   "outputs": [
    {
     "name": "stdout",
     "output_type": "stream",
     "text": [
      "906\n"
     ]
    }
   ],
   "source": [
    "for i in range(10):\n",
    "    done = False\n",
    "    state = env.reset()\n",
    "    while not done:\n",
    "        state = np.reshape(state, (1, 8))\n",
    "        random_action = env.action_space.sample()\n",
    "        env.render()\n",
    "        next_state, reward, done, info = env.step(random_action)\n",
    "        next_state = np.reshape(next_state, (1, 8))\n",
    "        exp_bufer.append((state, random_action, reward, next_state, done))\n",
    "        state = next_state\n",
    "    \n",
    "env.close()\n",
    "print(len(exp_bufer))"
   ]
  },
  {
   "cell_type": "markdown",
   "metadata": {},
   "source": [
    "Тренируем нейронную сеть"
   ]
  },
  {
   "cell_type": "code",
   "execution_count": 17,
   "metadata": {
    "scrolled": true
   },
   "outputs": [
    {
     "name": "stderr",
     "output_type": "stream",
     "text": [
      "/home/obi-1-konobe/projects/mag/ml/task_6/venv/lib/python3.6/site-packages/numpy/core/fromnumeric.py:3335: RuntimeWarning: Mean of empty slice.\n",
      "  out=out, **kwargs)\n",
      "/home/obi-1-konobe/projects/mag/ml/task_6/venv/lib/python3.6/site-packages/numpy/core/_methods.py:161: RuntimeWarning: invalid value encountered in double_scalars\n",
      "  ret = ret.dtype.type(ret / rcount)\n"
     ]
    },
    {
     "name": "stdout",
     "output_type": "stream",
     "text": [
      "episode 0 score -370.20143976188683\n",
      "episode 1 score -81.02456875386873\n",
      "episode 2 score -170.59155919351699\n",
      "episode 3 score -86.42804772527664\n",
      "episode 4 score -133.7530028299251\n",
      "episode 5 score -108.4282196814671\n",
      "episode 6 score -95.52258141815865\n",
      "episode 7 score -122.20574808381669\n",
      "episode 8 score -162.53596190346843\n",
      "episode 9 score -178.38832353962283\n",
      "episode 10 score -87.19919357997227\n",
      "episode 11 score -113.22040926491415\n",
      "episode 12 score -158.20561761580043\n",
      "episode 13 score -117.99554756055332\n",
      "episode 14 score -109.27964927546036\n",
      "episode 15 score -54.23980927074056\n",
      "episode 16 score -75.54222545430711\n",
      "episode 17 score -63.43861054439198\n",
      "episode 18 score -108.68548875627289\n",
      "episode 19 score -82.17990695207092\n",
      "episode 20 score -87.5535212615678\n",
      "episode 21 score -220.39640473185477\n",
      "episode 22 score -66.04583350072085\n",
      "episode 23 score -67.81494760664631\n",
      "episode 24 score -55.56099613463399\n",
      "episode 25 score -234.70260587759344\n",
      "episode 26 score -59.65995645103658\n",
      "episode 27 score -85.91683168666562\n",
      "episode 28 score -82.18748321871253\n",
      "episode 29 score -51.27125298298465\n",
      "episode 30 score -73.70503337734951\n",
      "episode 31 score -72.8019563909319\n",
      "episode 32 score -111.29302764137175\n",
      "episode 33 score -64.49404872623994\n",
      "episode 34 score -82.93038242917679\n",
      "episode 35 score -45.09930943553088\n",
      "episode 36 score -6.843346039780741\n",
      "episode 37 score -75.48323557876489\n",
      "episode 38 score -55.53306103242333\n",
      "episode 39 score -265.0854605642586\n",
      "episode 40 score -37.880034010823124\n",
      "episode 41 score -7.314385764634068\n",
      "episode 42 score -29.22203210057637\n",
      "episode 43 score -73.71321666073021\n",
      "episode 44 score -26.082672882207618\n",
      "episode 45 score -35.38396103660568\n",
      "episode 46 score -17.401258733816547\n",
      "episode 47 score -21.333367434191047\n",
      "episode 48 score 25.33213019077347\n",
      "episode 49 score -51.01099427252476\n",
      "episode 50 score -32.85513850811097\n",
      "episode 51 score -16.320279233719162\n",
      "episode 52 score -181.16335816079223\n",
      "episode 53 score -23.81551555810148\n",
      "episode 54 score -48.43194830020687\n",
      "episode 55 score -157.6452855027336\n",
      "episode 56 score -61.53968492575651\n",
      "episode 57 score 5.973271282849808\n",
      "episode 58 score 9.563867500769788\n",
      "episode 59 score -21.378470409445953\n",
      "episode 60 score -230.21454119951298\n",
      "episode 61 score 13.915505459026317\n",
      "episode 62 score -150.41551216859602\n",
      "episode 63 score -17.930615417403757\n",
      "episode 64 score -37.67052183865464\n",
      "episode 65 score -8.450209682848666\n",
      "episode 66 score 20.483179229555773\n",
      "episode 67 score -8.398478236421838\n",
      "episode 68 score -48.53970795257851\n",
      "episode 69 score 70.660033700084\n",
      "episode 70 score -339.65820594870803\n",
      "episode 71 score 66.61273504830247\n",
      "episode 72 score 35.040033807656556\n",
      "episode 73 score -14.610084526021879\n",
      "episode 74 score -6.3531452081799\n",
      "episode 75 score -15.121317596951386\n",
      "episode 76 score -25.46965821862173\n",
      "episode 77 score -151.1383205170359\n",
      "episode 78 score 15.31334366547317\n",
      "episode 79 score -432.03775865877867\n",
      "episode 80 score -346.93555320644793\n",
      "episode 81 score -148.59638495495886\n",
      "episode 82 score -8.693916292279013\n",
      "episode 83 score -340.08464899382267\n",
      "episode 84 score 0.6170887292191307\n",
      "episode 85 score 213.31630396059995\n",
      "episode 86 score 7.688999627505481\n",
      "episode 87 score 157.6060829651043\n",
      "episode 88 score -102.09863550758112\n",
      "episode 89 score -177.02418151131388\n",
      "episode 90 score -334.8781214557732\n",
      "episode 91 score -107.04897086807073\n",
      "episode 92 score -195.2543163640113\n",
      "episode 93 score -47.67292004775797\n",
      "episode 94 score 63.0591981672257\n",
      "episode 95 score -227.72536119585408\n",
      "episode 96 score 233.47393127239553\n",
      "episode 97 score 61.47545786833085\n",
      "episode 98 score 70.3123066586063\n",
      "episode 99 score 52.078355238918725\n",
      "episode 100 score -168.71773629944903\n",
      "episode 101 score -117.4736820103795\n",
      "episode 102 score 174.83312778672206\n",
      "episode 103 score 238.33840069325913\n",
      "episode 104 score 7.850151501431857\n",
      "episode 105 score 83.10253347787784\n",
      "episode 106 score 95.6572840249938\n",
      "episode 107 score 278.30599995300975\n",
      "episode 108 score 229.0463262471424\n",
      "episode 109 score -209.6375905645142\n",
      "episode 110 score 248.4356842947349\n",
      "episode 111 score 68.20297517620662\n",
      "episode 112 score -159.37378402797583\n",
      "episode 113 score -113.29496667682488\n",
      "episode 114 score 145.8329736301925\n",
      "episode 115 score 262.1497548372164\n",
      "episode 116 score 253.48431080066933\n",
      "episode 117 score -232.59002918641065\n",
      "episode 118 score 119.14231878914492\n",
      "episode 119 score 197.52740912803253\n",
      "episode 120 score 163.4604849242055\n",
      "episode 121 score 249.62236209650212\n",
      "episode 122 score -48.07341361357677\n",
      "episode 123 score -185.90000743008937\n",
      "episode 124 score -10.727952035498888\n",
      "episode 125 score -40.427464770198\n",
      "episode 126 score 48.82874175603655\n",
      "episode 127 score -56.44518860425691\n",
      "episode 128 score 243.98093171283696\n",
      "episode 129 score 245.68992703509844\n",
      "episode 130 score 109.33657092717122\n",
      "episode 131 score 233.11658664745772\n",
      "episode 132 score 239.4984625031559\n",
      "episode 133 score 274.8368330861488\n",
      "episode 134 score 267.0800628444226\n",
      "episode 135 score 234.90658573425446\n",
      "episode 136 score 226.24283441636697\n",
      "episode 137 score 146.43744735125009\n",
      "episode 138 score -95.35608240311059\n",
      "episode 139 score 196.54954430075796\n",
      "episode 140 score 242.18277890176063\n",
      "episode 141 score 233.60593887252497\n",
      "episode 142 score 302.3408675379385\n",
      "episode 143 score 272.13684346748073\n",
      "episode 144 score 264.84906016481443\n",
      "episode 145 score 209.29600743576327\n",
      "episode 146 score 253.32390166217198\n",
      "episode 147 score -2454.7792447097413\n",
      "episode 148 score 73.32454509873843\n",
      "episode 149 score -95.4363113700662\n",
      "episode 150 score 78.18318072750142\n",
      "episode 151 score 250.59957420316596\n",
      "episode 152 score 199.28672322721025\n",
      "episode 153 score 246.52741148988383\n",
      "episode 154 score 257.8242039703227\n",
      "episode 155 score -28.209658532354595\n",
      "episode 156 score 253.67664191299414\n",
      "episode 157 score 257.60724330280954\n",
      "episode 158 score 251.22543053134265\n",
      "episode 159 score 236.8847070919279\n",
      "episode 160 score 244.0895303286989\n",
      "episode 161 score 183.93112230948674\n",
      "episode 162 score 9.059204166386493\n",
      "episode 163 score 230.22079044123078\n",
      "episode 164 score -53.76559432666136\n",
      "episode 165 score 250.6758768680942\n",
      "episode 166 score 253.8424013123642\n",
      "episode 167 score 42.6275945601496\n",
      "episode 168 score 263.7157767383536\n",
      "episode 169 score 258.25097674287497\n",
      "episode 170 score 183.23644245032443\n",
      "episode 171 score 229.89725710700196\n",
      "episode 172 score -167.61273743186212\n",
      "episode 173 score -245.8146988888685\n",
      "episode 174 score 226.30016450067137\n",
      "episode 175 score 267.3658412848704\n",
      "episode 176 score 181.97571924838732\n",
      "episode 177 score 237.43299155761937\n",
      "episode 178 score 268.0252340104322\n",
      "episode 179 score 238.88954433272696\n",
      "episode 180 score 238.09599821299173\n",
      "episode 181 score 236.7918000394603\n",
      "episode 182 score 266.23121880857695\n",
      "episode 183 score 170.05265952265609\n",
      "episode 184 score 262.83459305504493\n",
      "episode 185 score 264.88581824673236\n",
      "episode 186 score -2.6393944195954333\n",
      "episode 187 score 193.7940311254774\n",
      "episode 188 score 199.58779657764782\n",
      "episode 189 score 255.74355491025202\n",
      "episode 190 score 261.18009992113383\n",
      "episode 191 score 222.39899158417683\n",
      "episode 192 score 27.785821243214514\n",
      "episode 193 score 244.785914429774\n",
      "episode 194 score 236.5655788925565\n",
      "episode 195 score -206.25071990285772\n",
      "episode 196 score 224.37625348952372\n",
      "episode 197 score 261.1262285870787\n",
      "episode 198 score 233.00202943859708\n",
      "episode 199 score 233.1401678721281\n",
      "episode 200 score 225.68263725687822\n",
      "episode 201 score 218.65863810302986\n",
      "episode 202 score 208.3824929200278\n",
      "episode 203 score 261.53630637744993\n",
      "episode 204 score 238.26345127322972\n",
      "episode 205 score 112.3871753322163\n",
      "episode 206 score 242.3228646695677\n",
      "episode 207 score 244.6995423280734\n",
      "episode 208 score 239.24664313922\n",
      "episode 209 score 194.99411921381105\n",
      "episode 210 score 220.2061887892243\n",
      "episode 211 score 98.48601549957131\n",
      "episode 212 score -18.96897403497033\n",
      "episode 213 score 239.81435366749133\n",
      "episode 214 score 96.36246255790032\n",
      "episode 215 score 258.9479392398463\n",
      "episode 216 score 270.1067028739185\n",
      "episode 217 score -14.764678007456622\n",
      "episode 218 score 259.861432869267\n",
      "episode 219 score 190.09585967650338\n",
      "episode 220 score 269.9148539044369\n",
      "episode 221 score 260.9637753770347\n",
      "episode 222 score 190.3511330367626\n",
      "episode 223 score -19.605017269037035\n",
      "episode 224 score 131.25648794412615\n",
      "episode 225 score -275.3544051667478\n"
     ]
    },
    {
     "name": "stdout",
     "output_type": "stream",
     "text": [
      "episode 226 score -201.4793108865519\n",
      "episode 227 score 264.56433568682525\n",
      "episode 228 score 148.47449425171646\n",
      "episode 229 score 265.5576139497889\n",
      "episode 230 score 251.8416384503767\n",
      "episode 231 score 64.8422816346829\n",
      "episode 232 score -98.52190529388062\n",
      "episode 233 score -11.996034998557679\n",
      "episode 234 score 277.7548287726504\n",
      "episode 235 score 8.127741399579024\n",
      "episode 236 score 0.06812072817140802\n",
      "episode 237 score 255.81859412124064\n",
      "episode 238 score 290.1712603135727\n",
      "episode 239 score 225.66284888491393\n",
      "episode 240 score 255.33690440339532\n",
      "episode 241 score 94.49955658668921\n",
      "episode 242 score -190.86312067606534\n",
      "episode 243 score 293.30232150854135\n",
      "episode 244 score -405.46829825374857\n",
      "episode 245 score 231.82650554648055\n",
      "episode 246 score -137.49391431697453\n",
      "episode 247 score 220.25518343154286\n",
      "episode 248 score 277.06805960352347\n",
      "episode 249 score 122.30092616551073\n",
      "episode 250 score 295.2665064345787\n",
      "episode 251 score 29.86070926285788\n",
      "episode 252 score 252.92680667848217\n",
      "episode 253 score 254.69269911921896\n",
      "episode 254 score 258.1782642513825\n",
      "episode 255 score 220.11674171610576\n",
      "episode 256 score 258.9981417708542\n",
      "episode 257 score 238.10859491694112\n",
      "episode 258 score 233.09979991781378\n",
      "episode 259 score 260.9936750724883\n",
      "episode 260 score 210.5778797593341\n",
      "episode 261 score -0.5330488160157074\n",
      "episode 262 score 229.47231217614777\n",
      "episode 263 score 253.38443483179196\n",
      "episode 264 score 288.451774746566\n",
      "episode 265 score 259.84060002398485\n",
      "episode 266 score 220.3048215246204\n",
      "episode 267 score -25.04428665180633\n",
      "episode 268 score -107.88519560135443\n",
      "episode 269 score 7.165528668554714\n",
      "episode 270 score 193.6719113583959\n",
      "episode 271 score -210.53364209806008\n",
      "episode 272 score 285.3057978709727\n",
      "episode 273 score 287.5693990718238\n",
      "episode 274 score 5.318604200880813\n",
      "episode 275 score 240.1720259079934\n",
      "episode 276 score 192.1031707692021\n",
      "episode 277 score 207.69860491834402\n",
      "episode 278 score 177.81063480264788\n",
      "episode 279 score 261.3828720115437\n",
      "episode 280 score 234.66456542487612\n",
      "episode 281 score 13.928699172660288\n",
      "episode 282 score 260.6514728261295\n",
      "episode 283 score 255.24194845386523\n",
      "episode 284 score 260.3427898533074\n",
      "episode 285 score 226.40425980498264\n",
      "episode 286 score 239.92643644690153\n",
      "episode 287 score 268.7540506182686\n",
      "episode 288 score 242.3090768827111\n",
      "episode 289 score 242.76758651375715\n",
      "episode 290 score 105.83901821534614\n",
      "episode 291 score 223.2275478440705\n",
      "episode 292 score 223.03211747564137\n",
      "episode 293 score 231.42539134394303\n",
      "episode 294 score 286.35821233840267\n",
      "episode 295 score 266.4273089188624\n",
      "episode 296 score 278.06105298912917\n",
      "episode 297 score 241.4188866242162\n",
      "episode 298 score 241.01244383353549\n",
      "episode 299 score 48.558747249314166\n",
      "episode 300 score 153.32006921643674\n",
      "episode 301 score 200.8208622669073\n",
      "episode 302 score 40.98056002008636\n",
      "episode 303 score 301.65027259818066\n",
      "episode 304 score -17.455659777989098\n",
      "episode 305 score 253.5635835525028\n",
      "episode 306 score -33.67101632533611\n",
      "episode 307 score 191.50055822090872\n",
      "episode 308 score 255.48822483681855\n",
      "episode 309 score -20.67637784575224\n",
      "episode 310 score 252.66686839043604\n",
      "episode 311 score 30.401491807239523\n",
      "episode 312 score 216.62127979570238\n",
      "episode 313 score 240.38965527660955\n",
      "episode 314 score 188.9347986360174\n",
      "episode 315 score 237.2141184742775\n",
      "episode 316 score 237.6979229120222\n",
      "episode 317 score 225.46800259447144\n",
      "episode 318 score 277.73919570033763\n",
      "episode 319 score 240.03733278596906\n",
      "episode 320 score 267.7259410525204\n",
      "episode 321 score 12.164062914206667\n",
      "episode 322 score 214.1896121117955\n",
      "episode 323 score -0.9229577795098862\n",
      "episode 324 score 256.9879106897266\n",
      "episode 325 score -43.8745361483694\n",
      "episode 326 score 282.6430118604651\n",
      "episode 327 score -453.7883915192796\n",
      "episode 328 score -147.2742339980816\n",
      "episode 329 score 183.21243717622437\n",
      "episode 330 score 209.97813390940865\n",
      "episode 331 score -86.52048865880123\n",
      "episode 332 score 223.99113121376885\n",
      "episode 333 score 248.45216483358018\n",
      "episode 334 score -237.359925591276\n",
      "episode 335 score 257.08905979258543\n",
      "episode 336 score 216.06725886599372\n",
      "episode 337 score 266.62346968673995\n",
      "episode 338 score 256.33879312046406\n",
      "episode 339 score 44.57090312003098\n",
      "episode 340 score 257.5021499063166\n",
      "episode 341 score 288.1999509148738\n",
      "episode 342 score 268.14556852925244\n",
      "episode 343 score 268.75295485248637\n",
      "episode 344 score 245.04511441378804\n",
      "episode 345 score 250.75517591140886\n",
      "episode 346 score 234.184286747406\n",
      "episode 347 score 252.88370848616105\n",
      "episode 348 score 246.88830332604795\n",
      "episode 349 score 265.87175585222906\n",
      "episode 350 score 225.1082384237358\n",
      "episode 351 score 225.34174341110753\n",
      "episode 352 score 212.80484979282457\n",
      "episode 353 score 283.23557175432126\n",
      "episode 354 score 274.6419549302532\n",
      "episode 355 score 257.2549971534123\n",
      "episode 356 score 220.72589418478356\n",
      "episode 357 score 265.3940470861644\n",
      "episode 358 score 241.9295780970297\n",
      "episode 359 score 272.09555510907035\n",
      "episode 360 score 150.75883140561564\n",
      "episode 361 score 253.75750615559994\n",
      "episode 362 score 219.03137347103956\n",
      "episode 363 score 255.63027009691686\n",
      "episode 364 score 8.957784780220564\n",
      "episode 365 score 225.7278893843957\n",
      "episode 366 score 270.1205503628912\n",
      "episode 367 score 255.71464661435587\n",
      "episode 368 score 236.73617822050375\n",
      "episode 369 score 260.51250361339794\n",
      "episode 370 score 228.17803358798616\n",
      "episode 371 score 230.74001088735076\n",
      "episode 372 score 243.00783646279177\n",
      "episode 373 score 215.46467508404544\n",
      "episode 374 score 285.3674330535905\n",
      "episode 375 score 237.45067865973664\n",
      "episode 376 score 232.0812302913405\n",
      "episode 377 score 237.97031955904149\n",
      "finish\n"
     ]
    }
   ],
   "source": [
    "episodes_score = list()\n",
    "for episode in range(500):\n",
    "    state = env.reset()\n",
    "    state = np.reshape(state, (1, state_size))\n",
    "    cumulative_rewards = 0\n",
    "    max_steps = 1500\n",
    "    for i in range(max_steps):\n",
    "        # выбираем действие\n",
    "        action = get_action(state)\n",
    "        # получаем новые параметры и сохраняем их в буфер\n",
    "        env.render()\n",
    "        next_state, reward, done, info = env.step(action)\n",
    "        cumulative_rewards += reward\n",
    "        next_state = np.reshape(next_state, (1, state_size))\n",
    "        exp_bufer.append((state, action, reward, next_state, done))\n",
    "        state = next_state\n",
    "        # обновляем веса\n",
    "        update_weights()\n",
    "        # если эпизод закончился\n",
    "        if done:\n",
    "            print(f'episode {episode} score {cumulative_rewards}')\n",
    "            # уменьшаем exploration\n",
    "            if epsilon > min_epsilon:\n",
    "                epsilon -= 0.01\n",
    "            break\n",
    "    # если последние 50 эпизодов закончились успешно, то дострочно прекращаем обучение \n",
    "    episodes_score.append(cumulative_rewards)\n",
    "    if np.mean(episodes_score[-50:]) > 200:\n",
    "        print('finish')\n",
    "        break\n"
   ]
  },
  {
   "cell_type": "code",
   "execution_count": 19,
   "metadata": {},
   "outputs": [],
   "source": [
    "env.close()"
   ]
  },
  {
   "cell_type": "markdown",
   "metadata": {},
   "source": [
    "Кривая обучения"
   ]
  },
  {
   "cell_type": "code",
   "execution_count": 21,
   "metadata": {},
   "outputs": [
    {
     "data": {
      "text/plain": [
       "[<matplotlib.lines.Line2D at 0x7f8d481bf320>]"
      ]
     },
     "execution_count": 21,
     "metadata": {},
     "output_type": "execute_result"
    },
    {
     "data": {
      "image/png": "[encoded data removed]",
      "text/plain": [
       "<Figure size 432x288 with 1 Axes>"
      ]
     },
     "metadata": {
      "needs_background": "light"
     },
     "output_type": "display_data"
    }
   ],
   "source": [
    "plt.plot(episodes_score)"
   ]
  },
  {
   "cell_type": "markdown",
   "metadata": {},
   "source": [
    "Тестируем модель"
   ]
  },
  {
   "cell_type": "code",
   "execution_count": 26,
   "metadata": {},
   "outputs": [],
   "source": [
    "test_score = list()\n",
    "for i in range(10):\n",
    "    done = False\n",
    "    state = env.reset()\n",
    "    score = 0\n",
    "    while not done:\n",
    "    \n",
    "        state = np.reshape(state, (1, 8))\n",
    "        action = np.argmax(model.predict(state)[0])\n",
    "        env.render()\n",
    "        next_state, reward, done, info = env.step(action)\n",
    "        state = next_state\n",
    "        score += reward\n",
    "    test_score.append(score)\n",
    "env.close()"
   ]
  },
  {
   "cell_type": "code",
   "execution_count": 27,
   "metadata": {},
   "outputs": [
    {
     "data": {
      "text/plain": [
       "[<matplotlib.lines.Line2D at 0x7f8cccd3ae10>]"
      ]
     },
     "execution_count": 27,
     "metadata": {},
     "output_type": "execute_result"
    },
    {
     "data": {
      "image/png": "[encoded data removed]",
      "text/plain": [
       "<Figure size 432x288 with 1 Axes>"
      ]
     },
     "metadata": {
      "needs_background": "light"
     },
     "output_type": "display_data"
    }
   ],
   "source": [
    "plt.plot(test_score)"
   ]
  },
  {
   "cell_type": "markdown",
   "metadata": {},
   "source": [
    "Все прилунения закончились удачно (>200)"
   ]
  }
 ],
 "metadata": {
  "kernelspec": {
   "display_name": "ml_task_5",
   "language": "python",
   "name": "ml_task_5"
  },
  "language_info": {
   "codemirror_mode": {
    "name": "ipython",
    "version": 3
   },
   "file_extension": ".py",
   "mimetype": "text/x-python",
   "name": "python",
   "nbconvert_exporter": "python",
   "pygments_lexer": "ipython3",
   "version": "3.6.9"
  }
 },
 "nbformat": 4,
 "nbformat_minor": 2
}
